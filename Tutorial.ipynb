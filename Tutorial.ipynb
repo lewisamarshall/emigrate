{
 "metadata": {
  "name": "",
  "signature": "sha256:688bd11be583bbc5d2fb0e71aa2a64c8eb31f97d040a47b227383add73726bca"
 },
 "nbformat": 3,
 "nbformat_minor": 0,
 "worksheets": [
  {
   "cells": [
    {
     "cell_type": "markdown",
     "metadata": {},
     "source": [
      "Emigrate\n",
      "========\n",
      "Emigrate is an electrophoresis simulator. "
     ]
    },
    {
     "cell_type": "code",
     "collapsed": false,
     "input": [
      "import emigrate\n",
      "import ionize\n",
      "import numpy as np\n",
      "import cProfile"
     ],
     "language": "python",
     "metadata": {},
     "outputs": [],
     "prompt_number": 1
    },
    {
     "cell_type": "code",
     "collapsed": false,
     "input": [
      "tris = ionize.load_ion('tris')\n",
      "\n",
      "solutions = [ionize.Solution(['caproic acid', tris], [.05, .105]),\n",
      "                 ionize.Solution(['hydrochloric acid', tris], [.05, .1])\n",
      "                 ]\n",
      "\n",
      "system = emigrate.Constructor(domain_length=0.01,\n",
      "                         nodes=100,\n",
      "                         interface_length=.0005,\n",
      "                         solutions=solutions,\n",
      "                         V=10, I=None,\n",
      "                         domain_mode='centered'\n",
      "                         )"
     ],
     "language": "python",
     "metadata": {},
     "outputs": [],
     "prompt_number": 2
    },
    {
     "cell_type": "code",
     "collapsed": false,
     "input": [
      "for i in range(3):\n",
      "    plot(system.domain, system.concentrations[i,:])\n",
      "    \n",
      "# xlim(-.04, .04)\n",
      "# ylim(0, .15)\n",
      "show()"
     ],
     "language": "python",
     "metadata": {},
     "outputs": [
      {
       "metadata": {},
       "output_type": "display_data",
       "png": "[encoded data removed]",
       "text": [
        "<matplotlib.figure.Figure at 0x10a6a7cd0>"
       ]
      }
     ],
     "prompt_number": 3
    },
    {
     "cell_type": "code",
     "collapsed": false,
     "input": [
      "solver = emigrate.Migrate(system)\n",
      "# plot(solver.z, solver.node_cost(solver.concentrations))\n",
      "# plot(solver.z, solver.node_flux(solver.concentrations))\n",
      "\n",
      "# plot(solver.z, solver.second_derivative(solver.concentrations)[2,:])\n",
      "# plot(solver.z, solver.x)\n",
      "# print solver.differ.A1\n",
      "# plot(solver.z, solver.first_derivative(solver.concentrations)[2,:])\n",
      "# show()\n",
      "print solver.x.T.shape"
     ],
     "language": "python",
     "metadata": {},
     "outputs": [
      {
       "output_type": "stream",
       "stream": "stdout",
       "text": [
        "(100,)\n"
       ]
      }
     ],
     "prompt_number": 4
    },
    {
     "cell_type": "code",
     "collapsed": false,
     "input": [
      "# solver.set_derivatives()\n",
      "# solver.adaptive_grid = True\n",
      "# for i in range(3):\n",
      "#     plot(system.domain, solver.flux()[i,:])\n",
      "# show()"
     ],
     "language": "python",
     "metadata": {},
     "outputs": [],
     "prompt_number": 5
    },
    {
     "cell_type": "code",
     "collapsed": false,
     "input": [
      "# solver.set_derivatives()\n",
      "# solver.adaptive_grid = True\n",
      "# # for i in range(3):\n",
      "# #     plot(system.domain, solver.flux()[i,:])\n",
      "# plot(system.domain, solver.node_flux())\n",
      "# print solver.node_flux()\n",
      "# show()"
     ],
     "language": "python",
     "metadata": {},
     "outputs": [],
     "prompt_number": 6
    },
    {
     "cell_type": "code",
     "collapsed": false,
     "input": [
      "solver.adaptive_grid = True\n",
      "print np.max(solver.x), np.min(solver.x)\n",
      "tmax = 10\n",
      "# cProfile.run(\"solver.solve(t, method='rk45')\")\n",
      "solver.solve(tmax, dt=.01, method='lsoda')\n",
      "for my_sol in solver.solution:\n",
      "        x = my_sol[1]\n",
      "        conc = my_sol[2]\n",
      "        plot(solver.x, solver.second_derivative(solver.z))\n",
      "        print np.max(solver.x), np.min(solver.x)\n",
      "#         print solver.x\n",
      "        for sub_sol in conc:\n",
      "            pass\n",
      "#             plot(solver.z, x)\n",
      "#             plot(solver.z, x, '.')\n",
      "#             plot(x, sub_sol, '.')\n",
      "# plot(solver.z, solver.initial_concentrations[2,:])\n",
      "# xlim(-.04, .04)\n",
      "# ylim(0, .2)\n",
      "show()"
     ],
     "language": "python",
     "metadata": {},
     "outputs": []
    },
    {
     "cell_type": "code",
     "collapsed": false,
     "input": [
      "print len(solver.full_solution)\n",
      "print len(solver.solution)\n",
      "# print [sol[0] for sol in solver.full_solution]\n",
      "plot(np.diff([sol[0] for sol in solver.full_solution]))"
     ],
     "language": "python",
     "metadata": {},
     "outputs": [
      {
       "output_type": "stream",
       "stream": "stdout",
       "text": [
        "0\n",
        "2\n"
       ]
      },
      {
       "metadata": {},
       "output_type": "pyout",
       "prompt_number": 8,
       "text": [
        "[<matplotlib.lines.Line2D at 0x10a854890>]"
       ]
      },
      {
       "metadata": {},
       "output_type": "display_data",
       "png": "[encoded data removed]",
       "text": [
        "<matplotlib.figure.Figure at 0x10a83ced0>"
       ]
      }
     ],
     "prompt_number": 8
    },
    {
     "cell_type": "code",
     "collapsed": false,
     "input": [],
     "language": "python",
     "metadata": {},
     "outputs": [],
     "prompt_number": 8
    }
   ],
   "metadata": {}
  }
 ]
}