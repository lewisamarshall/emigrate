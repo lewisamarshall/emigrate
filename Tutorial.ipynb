{
 "metadata": {
  "name": "",
  "signature": "sha256:132ddcba12914efecc56def93a5dceea47af4b82531864604753c9fb5014bf97"
 },
 "nbformat": 3,
 "nbformat_minor": 0,
 "worksheets": [
  {
   "cells": [
    {
     "cell_type": "markdown",
     "metadata": {},
     "source": [
      "Emigrate\n",
      "========\n",
      "Emigrate is an electrophoresis simulator written in python. It is based on the the scipy.integrate.ode solver. It is written with multiple simulation modules to allow varying solution schemes in order to allow easy extension."
     ]
    },
    {
     "cell_type": "markdown",
     "metadata": {},
     "source": [
      "First, we'll import emigrate. We'll also import ionize, since ionize Ions are used during initialization. \n",
      "\n",
      "We'll also import numpy to set up some vectors, and cProfile for code profiling"
     ]
    },
    {
     "cell_type": "code",
     "collapsed": false,
     "input": [
      "import emigrate\n",
      "import ionize\n",
      "import numpy as np\n",
      "import cProfile"
     ],
     "language": "python",
     "metadata": {},
     "outputs": [],
     "prompt_number": 1
    },
    {
     "cell_type": "markdown",
     "metadata": {},
     "source": [
      "Initial Condition\n",
      "-----------------\n",
      "To define an initial condition, use the emegrate.Constructor class. This class creates the concentration profiles. It by default creates error function concentration profiles as junctions between the ionize Solution objects specified. "
     ]
    },
    {
     "cell_type": "code",
     "collapsed": false,
     "input": [
      "solutions = [ionize.Solution(['caproic acid', 'tris'], [.05, .105]),\n",
      "             ionize.Solution(['hydrochloric acid', 'tris'], [.05, .1])\n",
      "            ]\n",
      "system = emigrate.Constructor(domain_length=0.01,\n",
      "                         nodes=1000,\n",
      "                         interface_length=.0005,\n",
      "                         solutions=solutions,\n",
      "                         V=-10, I=None,\n",
      "                         domain_mode='centered'\n",
      "                         )\n",
      "for i in range(len(system.ions)):\n",
      "    plot(system.domain, system.concentrations[i,:])\n",
      "show()"
     ],
     "language": "python",
     "metadata": {},
     "outputs": [
      {
       "metadata": {},
       "output_type": "display_data",
       "png": "[encoded data removed]",
       "text": [
        "<matplotlib.figure.Figure at 0x1128e1e50>"
       ]
      }
     ],
     "prompt_number": 2
    },
    {
     "cell_type": "markdown",
     "metadata": {},
     "source": [
      "Solving\n",
      "-------\n",
      "We solve the solution by using the Migrate class. This class takes the system defined by the Constructor as an input and solves it. "
     ]
    },
    {
     "cell_type": "code",
     "collapsed": false,
     "input": [
      "solver = emigrate.Migrate(system)\n",
      "tmax = 50\n",
      "dt = 5\n",
      "ode_solver = 'dopri5'\n",
      "profile = False\n",
      "\n",
      "if profile:\n",
      "    cProfile.run(\"solver.solve(tmax, dt, method=ode_solver)\")\n",
      "else:\n",
      "    solver.solve(tmax, dt, method=ode_solver)\n",
      "\n",
      "for solution in solver.solution.values():\n",
      "        x = solution[0]\n",
      "        concentrations = solution[1]\n",
      "        for ion_concentration in concentrations:\n",
      "            plot(x, ion_concentration, '-')\n",
      "show()"
     ],
     "language": "python",
     "metadata": {},
     "outputs": [
      {
       "ename": "TypeError",
       "evalue": "object() takes no parameters",
       "output_type": "pyerr",
       "traceback": [
        "\u001b[0;31m---------------------------------------------------------------------------\u001b[0m\n\u001b[0;31mTypeError\u001b[0m                                 Traceback (most recent call last)",
        "\u001b[0;32m<ipython-input-3-ab0652a8db2e>\u001b[0m in \u001b[0;36m<module>\u001b[0;34m()\u001b[0m\n\u001b[0;32m----> 1\u001b[0;31m \u001b[0msolver\u001b[0m \u001b[0;34m=\u001b[0m \u001b[0memigrate\u001b[0m\u001b[0;34m.\u001b[0m\u001b[0mMigrate\u001b[0m\u001b[0;34m(\u001b[0m\u001b[0msystem\u001b[0m\u001b[0;34m)\u001b[0m\u001b[0;34m\u001b[0m\u001b[0m\n\u001b[0m\u001b[1;32m      2\u001b[0m \u001b[0mtmax\u001b[0m \u001b[0;34m=\u001b[0m \u001b[0;36m50\u001b[0m\u001b[0;34m\u001b[0m\u001b[0m\n\u001b[1;32m      3\u001b[0m \u001b[0mdt\u001b[0m \u001b[0;34m=\u001b[0m \u001b[0;36m5\u001b[0m\u001b[0;34m\u001b[0m\u001b[0m\n\u001b[1;32m      4\u001b[0m \u001b[0mode_solver\u001b[0m \u001b[0;34m=\u001b[0m \u001b[0;34m'dopri5'\u001b[0m\u001b[0;34m\u001b[0m\u001b[0m\n\u001b[1;32m      5\u001b[0m \u001b[0mprofile\u001b[0m \u001b[0;34m=\u001b[0m \u001b[0mFalse\u001b[0m\u001b[0;34m\u001b[0m\u001b[0m\n",
        "\u001b[0;32m/Users/lewis/Documents/Python/emigrate/emigrate/Migrate.pyc\u001b[0m in \u001b[0;36m__init__\u001b[0;34m(self, system, flux_mode, equilibrium_mode)\u001b[0m\n\u001b[1;32m     58\u001b[0m         \u001b[0mself\u001b[0m\u001b[0;34m.\u001b[0m\u001b[0mset_equilibrium_mode\u001b[0m\u001b[0;34m(\u001b[0m\u001b[0;34m)\u001b[0m\u001b[0;34m\u001b[0m\u001b[0m\n\u001b[1;32m     59\u001b[0m         \u001b[0mself\u001b[0m\u001b[0;34m.\u001b[0m\u001b[0mflux_mode\u001b[0m \u001b[0;34m=\u001b[0m \u001b[0mflux_mode\u001b[0m\u001b[0;34m\u001b[0m\u001b[0m\n\u001b[0;32m---> 60\u001b[0;31m         \u001b[0mself\u001b[0m\u001b[0;34m.\u001b[0m\u001b[0mset_flux_mode\u001b[0m\u001b[0;34m(\u001b[0m\u001b[0;34m)\u001b[0m\u001b[0;34m\u001b[0m\u001b[0m\n\u001b[0m\u001b[1;32m     61\u001b[0m \u001b[0;34m\u001b[0m\u001b[0m\n\u001b[1;32m     62\u001b[0m     \u001b[0;32mdef\u001b[0m \u001b[0mset_equilibrium_mode\u001b[0m\u001b[0;34m(\u001b[0m\u001b[0mself\u001b[0m\u001b[0;34m)\u001b[0m\u001b[0;34m:\u001b[0m\u001b[0;34m\u001b[0m\u001b[0m\n",
        "\u001b[0;32m/Users/lewis/Documents/Python/emigrate/emigrate/Migrate.pyc\u001b[0m in \u001b[0;36mset_flux_mode\u001b[0;34m(self)\u001b[0m\n\u001b[1;32m     77\u001b[0m                                            \u001b[0mself\u001b[0m\u001b[0;34m.\u001b[0m\u001b[0mmobility\u001b[0m\u001b[0;34m,\u001b[0m\u001b[0;34m\u001b[0m\u001b[0m\n\u001b[1;32m     78\u001b[0m                                            \u001b[0mself\u001b[0m\u001b[0;34m.\u001b[0m\u001b[0mdiffusivity\u001b[0m\u001b[0;34m,\u001b[0m\u001b[0;34m\u001b[0m\u001b[0m\n\u001b[0;32m---> 79\u001b[0;31m                                            self.molar_conductivity)\n\u001b[0m\u001b[1;32m     80\u001b[0m         \u001b[0;32melse\u001b[0m\u001b[0;34m:\u001b[0m\u001b[0;34m\u001b[0m\u001b[0m\n\u001b[1;32m     81\u001b[0m             \u001b[0;32mpass\u001b[0m\u001b[0;34m\u001b[0m\u001b[0m\n",
        "\u001b[0;31mTypeError\u001b[0m: object() takes no parameters"
       ]
      }
     ],
     "prompt_number": 3
    },
    {
     "cell_type": "markdown",
     "metadata": {},
     "source": [
      "Modules\n",
      "-------\n",
      "\n",
      "The solver loads two types of modules:\n",
      "- The flux module.  This module defines the flux of ions through the domain.\n",
      "- The equilibrium module. This module defines the mobility, diffusivity, and molar conductivity of ions. These values are used by the flux module. \n",
      "\n",
      "By default, the flux module called is the compact solver with no adaptive grid.\n",
      "The equilibrium solver called is the fixed pH solver. \n",
      "\n",
      "### Variable pH Solver"
     ]
    },
    {
     "cell_type": "code",
     "collapsed": false,
     "input": [],
     "language": "python",
     "metadata": {},
     "outputs": []
    }
   ],
   "metadata": {}
  }
 ]
}