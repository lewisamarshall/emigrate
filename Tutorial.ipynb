{
 "metadata": {
  "name": "",
  "signature": "sha256:4db567b43cffafbaae0a15b00b753120969cd025b33a7f3d39e491fd3d8c676c"
 },
 "nbformat": 3,
 "nbformat_minor": 0,
 "worksheets": [
  {
   "cells": [
    {
     "cell_type": "markdown",
     "metadata": {},
     "source": [
      "Emigrate\n",
      "========\n",
      "Emigrate is an electrophoresis simulator written in python. It is based on the the scipy.integrate.ode solver. It is written with multiple simulation modules to allow varying solution schemes in order to allow easy extension."
     ]
    },
    {
     "cell_type": "markdown",
     "metadata": {},
     "source": [
      "First, we'll import emigrate. We'll also import ionize, since ionize Ions are used during initialization. \n",
      "\n",
      "We'll also import numpy to set up some vectors, and cProfile for code profiling"
     ]
    },
    {
     "cell_type": "code",
     "collapsed": false,
     "input": [
      "import emigrate\n",
      "import ionize\n",
      "\n",
      "import numpy as np\n",
      "import cProfile"
     ],
     "language": "python",
     "metadata": {},
     "outputs": [],
     "prompt_number": 1
    },
    {
     "cell_type": "markdown",
     "metadata": {},
     "source": [
      "Initial Condition\n",
      "-----------------\n",
      "To define an initial condition, use the emegrate.Constructor class. This class creates the concentration profiles. It by default creates error function concentration profiles as junctions between the ionize Solution objects specified. "
     ]
    },
    {
     "cell_type": "code",
     "collapsed": false,
     "input": [
      "solutions = [ionize.Solution(['caproic acid', 'bis-tris'], [.05, .105]),\n",
      "             ionize.Solution(['acetic acid', 'bis-tris', 'fluorescein'], [.05, .1, 0.01])\n",
      "            ]\n",
      "system = emigrate.Constructor(domain_length=0.01,\n",
      "                         nodes=1002,\n",
      "                         interface_length=.0005,\n",
      "                         solutions=solutions,\n",
      "                         V= -10., I=None,\n",
      "                         domain_mode='centered'\n",
      "                         )\n",
      "for i in range(len(system.ions)):\n",
      "    plot(system.domain, system.concentrations[i,:])\n",
      "show()"
     ],
     "language": "python",
     "metadata": {},
     "outputs": [
      {
       "metadata": {},
       "output_type": "display_data",
       "png": "[encoded data removed]",
       "text": [
        "<matplotlib.figure.Figure at 0x11502be50>"
       ]
      }
     ],
     "prompt_number": 2
    },
    {
     "cell_type": "markdown",
     "metadata": {},
     "source": [
      "Solving\n",
      "-------\n",
      "We solve the solution by using the Migrate class. This class takes the system defined by the Constructor as an input and solves it. "
     ]
    },
    {
     "cell_type": "code",
     "collapsed": false,
     "input": [
      "solver = emigrate.Migrate(system)\n",
      "tmax = 50\n",
      "dt = 5\n",
      "ode_solver = 'dopri5'\n",
      "profile = True\n",
      "\n",
      "if profile:\n",
      "    cProfile.run(\"solver.solve(tmax, dt, method=ode_solver)\")\n",
      "else:\n",
      "    solver.solve(tmax, dt, method=ode_solver)\n",
      "\n",
      "for solution in solver.solution.values():\n",
      "        x = solution[0]\n",
      "        concentrations = solution[1]\n",
      "        for ion_concentration in concentrations:\n",
      "            plot(x, ion_concentration, '-')\n",
      "show()"
     ],
     "language": "python",
     "metadata": {},
     "outputs": [
      {
       "output_type": "stream",
       "stream": "stdout",
       "text": [
        "         13199235 function calls (12688215 primitive calls) in 19.196 seconds\n",
        "\n",
        "   Ordered by: standard name\n",
        "\n",
        "   ncalls  tottime  percall  cumtime  percall filename:lineno(function)\n",
        "        1    0.000    0.000   19.196   19.196 <string>:1(<module>)\n",
        "     1067    0.002    0.000    0.129    0.000 Differentiate.py:31(first_derivative)\n",
        "     1067    0.003    0.000    0.142    0.000 Differentiate.py:42(second_derivative)\n",
        "      170    0.000    0.000   18.691    0.110 Equilibrate_Base.py:28(equilibrate)\n",
        "     1067    0.002    0.000    0.131    0.000 Flux_Base.py:27(first_derivative)\n",
        "     1067    0.002    0.000    0.144    0.000 Flux_Base.py:31(second_derivative)\n",
        "     1067    0.001    0.000    0.001    0.000 Flux_Base.py:35(set_boundary)\n",
        "     1068    0.002    0.000    0.010    0.000 Migrate.py:100(compose_state)\n",
        "      180    0.001    0.000    0.008    0.000 Migrate.py:107(write_solution)\n",
        "        1    0.000    0.000   19.196   19.196 Migrate.py:118(solve)\n",
        "      170    0.001    0.000   18.701    0.110 Migrate.py:148(solout)\n",
        "     1067    0.005    0.000    0.471    0.000 Migrate.py:154(objective)\n",
        "     1418    0.003    0.000    0.005    0.000 Migrate.py:94(decompose_state)\n",
        "      170    0.757    0.004   18.585    0.109 Variable_pH.py:120(calc_pH)\n",
        "      170    0.004    0.000    0.007    0.000 Variable_pH.py:163(calc_mobility)\n",
        "      170    0.014    0.000    0.017    0.000 Variable_pH.py:168(calc_diffusivity)\n",
        "      170    0.009    0.000    0.012    0.000 Variable_pH.py:176(calc_molar_conductivity)\n",
        "      170    0.054    0.000    0.066    0.000 Variable_pH.py:183(calc_ionization_fraction)\n",
        "      170    0.004    0.000   18.691    0.110 Variable_pH.py:42(calc_equilibrium)\n",
        "        2    0.000    0.000    0.000    0.000 _abcoll.py:545(update)\n",
        "     2984    0.002    0.000    0.034    0.000 _methods.py:31(_sum)\n",
        "        1    0.000    0.000    0.000    0.000 _ode.py:327(__init__)\n",
        "       11    0.000    0.000    0.000    0.000 _ode.py:335(y)\n",
        "        1    0.000    0.000    0.000    0.000 _ode.py:339(set_initial_value)\n",
        "        1    0.000    0.000    0.000    0.000 _ode.py:351(set_integrator)\n",
        "       10    0.000    0.000   19.196    1.920 _ode.py:376(integrate)\n",
        "       12    0.000    0.000    0.000    0.000 _ode.py:395(successful)\n",
        "        1    0.000    0.000    0.000    0.000 _ode.py:413(set_solout)\n",
        "        1    0.000    0.000    0.000    0.000 _ode.py:543(find_integrator)\n",
        "        1    0.000    0.000    0.000    0.000 _ode.py:894(__init__)\n",
        "        2    0.000    0.000    0.000    0.000 _ode.py:919(set_solout)\n",
        "        2    0.000    0.000    0.000    0.000 _ode.py:927(reset)\n",
        "       10    0.024    0.002   19.196    1.920 _ode.py:944(run)\n",
        "      170    0.000    0.000   18.701    0.110 _ode.py:953(_solout)\n",
        "        6    0.000    0.000    0.000    0.000 _weakrefset.py:70(__contains__)\n",
        "        2    0.000    0.000    0.000    0.000 abc.py:128(__instancecheck__)\n",
        "        2    0.000    0.000    0.000    0.000 abc.py:148(__subclasscheck__)\n",
        "     2134    0.003    0.000    0.113    0.000 base.py:233(dot)\n",
        "     2134    0.007    0.000    0.110    0.000 base.py:282(__mul__)\n",
        "     4268    0.001    0.000    0.001    0.000 base.py:93(get_shape)\n",
        "      180    0.002    0.000    0.006    0.000 collections.py:100(keys)\n",
        "        2    0.000    0.000    0.000    0.000 collections.py:38(__init__)\n",
        "      171    0.001    0.000    0.001    0.000 collections.py:54(__setitem__)\n",
        "    13816    0.004    0.000    0.004    0.000 collections.py:73(__iter__)\n",
        "     1067    0.009    0.000    0.450    0.000 compact.py:20(flux)\n",
        "     1067    0.009    0.000    0.122    0.000 compact.py:30(set_current)\n",
        "     1067    0.008    0.000    0.145    0.000 compact.py:34(set_E)\n",
        "     1067    0.005    0.000    0.149    0.000 compact.py:39(diffusive_flux)\n",
        "     1067    0.015    0.000    0.146    0.000 compact.py:46(electromigration_flux)\n",
        "     2134    0.012    0.000    0.032    0.000 compact.py:53(conductivity)\n",
        "     2134    0.012    0.000    0.102    0.000 compressed.py:451(_mul_multivector)\n",
        "     2134    0.001    0.000    0.001    0.000 data.py:28(_get_dtype)\n",
        "     2984    0.005    0.000    0.042    0.000 fromnumeric.py:1623(sum)\n",
        "   340680    0.596    0.000    0.693    0.000 function_base.py:1331(trim_zeros)\n",
        "      170    0.006    0.000    0.008    0.000 function_base.py:3427(delete)\n",
        "        1    0.000    0.000    0.000    0.000 numeric.py:1910(isscalar)\n",
        "1192721/1022381    0.591    0.000    3.253    0.000 numeric.py:394(asarray)\n",
        "   340680    0.210    0.000    0.459    0.000 numeric.py:464(asanyarray)\n",
        "   340680    0.526    0.000    1.598    0.000 numeric.py:81(zeros_like)\n",
        "   340680    0.978    0.000    3.136    0.000 polynomial.py:1038(__init__)\n",
        "   170340    0.116    0.000    0.299    0.000 polynomial.py:1059(__array__)\n",
        "   340680    0.221    0.000    8.771    0.000 polynomial.py:1130(__call__)\n",
        "   340680    0.893    0.000    0.893    0.000 polynomial.py:1206(__getattr__)\n",
        "340680/170340    1.889    0.000    6.453    0.000 polynomial.py:328(polyder)\n",
        "   340680    5.770    0.000    8.550    0.000 polynomial.py:608(polyval)\n",
        "        3    0.000    0.000    0.000    0.000 re.py:134(match)\n",
        "        3    0.000    0.000    0.000    0.000 re.py:226(_compile)\n",
        "   340680    0.593    0.000    1.243    0.000 shape_base.py:8(atleast_1d)\n",
        "        1    0.000    0.000    0.000    0.000 sputils.py:26(upcast)\n",
        "     2134    0.002    0.000    0.003    0.000 sputils.py:65(upcast_char)\n",
        "        1    0.000    0.000    0.000    0.000 sre_compile.py:32(_compile)\n",
        "        1    0.000    0.000    0.000    0.000 sre_compile.py:359(_compile_info)\n",
        "        2    0.000    0.000    0.000    0.000 sre_compile.py:472(isstring)\n",
        "        1    0.000    0.000    0.000    0.000 sre_compile.py:478(_code)\n",
        "        1    0.000    0.000    0.000    0.000 sre_compile.py:493(compile)\n",
        "        6    0.000    0.000    0.000    0.000 sre_parse.py:138(append)\n",
        "        1    0.000    0.000    0.000    0.000 sre_parse.py:140(getwidth)\n",
        "        1    0.000    0.000    0.000    0.000 sre_parse.py:178(__init__)\n",
        "        9    0.000    0.000    0.000    0.000 sre_parse.py:182(__next)\n",
        "        1    0.000    0.000    0.000    0.000 sre_parse.py:195(match)\n",
        "        8    0.000    0.000    0.000    0.000 sre_parse.py:201(get)\n",
        "        1    0.000    0.000    0.000    0.000 sre_parse.py:301(_parse_sub)\n",
        "        1    0.000    0.000    0.000    0.000 sre_parse.py:379(_parse)\n",
        "        1    0.000    0.000    0.000    0.000 sre_parse.py:67(__init__)\n",
        "        1    0.000    0.000    0.000    0.000 sre_parse.py:677(parse)\n",
        "        1    0.000    0.000    0.000    0.000 sre_parse.py:90(__init__)\n",
        "   170340    0.713    0.000    9.641    0.000 zeros.py:45(newton)\n",
        "        1    0.000    0.000    0.000    0.000 {_sre.compile}\n",
        "        6    0.000    0.000    0.000    0.000 {_sre.getlower}\n",
        "   170340    0.032    0.000    0.032    0.000 {abs}\n",
        "     2136    0.001    0.000    0.001    0.000 {getattr}\n",
        "        2    0.000    0.000    0.000    0.000 {hasattr}\n",
        "        1    0.000    0.000    0.000    0.000 {hash}\n",
        "  1025370    0.412    0.000    0.413    0.000 {isinstance}\n",
        "  2725469    0.301    0.000    0.301    0.000 {len}\n",
        "        1    0.000    0.000    0.000    0.000 {map}\n",
        "   170340    0.052    0.000    0.052    0.000 {math.log10}\n",
        "   681385    0.152    0.000    0.152    0.000 {method 'append' of 'list' objects}\n",
        "        1    0.000    0.000    0.000    0.000 {method 'disable' of '_lsprof.Profiler' objects}\n",
        "     2136    0.005    0.000    0.005    0.000 {method 'flatten' of 'numpy.ndarray' objects}\n",
        "     2138    0.001    0.000    0.001    0.000 {method 'get' of 'dict' objects}\n",
        "      170    0.000    0.000    0.000    0.000 {method 'item' of 'numpy.ndarray' objects}\n",
        "        3    0.000    0.000    0.000    0.000 {method 'items' of 'dict' objects}\n",
        "        3    0.000    0.000    0.000    0.000 {method 'match' of '_sre.SRE_Pattern' objects}\n",
        "     4268    0.026    0.000    0.026    0.000 {method 'ravel' of 'numpy.ndarray' objects}\n",
        "     2984    0.033    0.000    0.033    0.000 {method 'reduce' of 'numpy.ufunc' objects}\n",
        "     1418    0.002    0.000    0.002    0.000 {method 'reshape' of 'numpy.ndarray' objects}\n",
        "      170    0.002    0.000    0.002    0.000 {method 'resize' of 'numpy.ndarray' objects}\n",
        "     2134    0.153    0.000    0.153    0.000 {method 'solve' of 'SuperLU' objects}\n",
        "   340680    0.059    0.000    0.059    0.000 {method 'upper' of 'str' objects}\n",
        "        2    0.000    0.000    0.000    0.000 {min}\n",
        "   340680    0.477    0.000    0.477    0.000 {numpy.core.multiarray.arange}\n",
        "1533572/1363232    1.902    0.000    3.004    0.000 {numpy.core.multiarray.array}\n",
        "     1068    0.004    0.000    0.004    0.000 {numpy.core.multiarray.concatenate}\n",
        "   340680    0.336    0.000    0.336    0.000 {numpy.core.multiarray.copyto}\n",
        "   340680    0.231    0.000    0.231    0.000 {numpy.core.multiarray.empty_like}\n",
        "      170    0.000    0.000    0.000    0.000 {numpy.core.multiarray.empty}\n",
        "   343885    0.514    0.000    0.514    0.000 {numpy.core.multiarray.zeros}\n",
        "        6    0.000    0.000    0.000    0.000 {ord}\n",
        "   511190    0.265    0.000    0.265    0.000 {range}\n",
        "     2134    0.054    0.000    0.054    0.000 {scipy.sparse._sparsetools.csc_matvecs}\n",
        "     1067    0.095    0.000    0.095    0.000 {sum}\n",
        "\n",
        "\n"
       ]
      },
      {
       "metadata": {},
       "output_type": "display_data",
       "png": "[encoded data removed]",
       "text": [
        "<matplotlib.figure.Figure at 0x115290190>"
       ]
      }
     ],
     "prompt_number": 3
    },
    {
     "cell_type": "markdown",
     "metadata": {},
     "source": [
      "Modules\n",
      "-------\n",
      "\n",
      "The solver loads two types of modules:\n",
      "- The flux module.  This module defines the flux of ions through the domain.\n",
      "- The equilibrium module. This module defines the mobility, diffusivity, and molar conductivity of ions. These values are used by the flux module. \n",
      "\n",
      "By default, the flux module called is the compact solver with no adaptive grid.\n",
      "The equilibrium solver called is the fixed pH solver. \n",
      "\n",
      "### Variable pH Solver"
     ]
    },
    {
     "cell_type": "code",
     "collapsed": false,
     "input": [],
     "language": "python",
     "metadata": {},
     "outputs": [],
     "prompt_number": 3
    },
    {
     "cell_type": "code",
     "collapsed": false,
     "input": [],
     "language": "python",
     "metadata": {},
     "outputs": [],
     "prompt_number": 3
    }
   ],
   "metadata": {}
  }
 ]
}