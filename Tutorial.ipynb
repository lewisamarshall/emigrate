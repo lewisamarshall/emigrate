{
 "metadata": {
  "name": "",
  "signature": "sha256:5942b0877641f9e8a723873e75203ef0a73f60bc37809b0cefafca55b00dbbfe"
 },
 "nbformat": 3,
 "nbformat_minor": 0,
 "worksheets": [
  {
   "cells": [
    {
     "cell_type": "markdown",
     "metadata": {},
     "source": [
      "Emigrate\n",
      "========\n",
      "Emigrate is an electrophoresis simulator. "
     ]
    },
    {
     "cell_type": "code",
     "collapsed": false,
     "input": [
      "import emigrate\n",
      "import ionize\n",
      "import numpy as np\n",
      "import cProfile"
     ],
     "language": "python",
     "metadata": {},
     "outputs": [],
     "prompt_number": 1
    },
    {
     "cell_type": "code",
     "collapsed": false,
     "input": [
      "tris = ionize.load_ion('tris')\n",
      "\n",
      "solutions = [ionize.Solution(['caproic acid', tris], [.05, .105]),\n",
      "                 ionize.Solution(['hydrochloric acid', tris], [.05, .1])\n",
      "                 ]\n",
      "\n",
      "system = emigrate.Constructor(domain_length=0.008,\n",
      "                         nodes=100,\n",
      "                         interface_length=.001,\n",
      "                         solutions=solutions,\n",
      "                         V=10, I=None,\n",
      "                         domain_mode='centered'\n",
      "                         )"
     ],
     "language": "python",
     "metadata": {},
     "outputs": [],
     "prompt_number": 2
    },
    {
     "cell_type": "code",
     "collapsed": false,
     "input": [
      "for i in range(3):\n",
      "    plot(system.domain, system.concentrations[i,:])\n",
      "show()"
     ],
     "language": "python",
     "metadata": {},
     "outputs": [
      {
       "metadata": {},
       "output_type": "display_data",
       "png": "[encoded data removed]",
       "text": [
        "<matplotlib.figure.Figure at 0x10cd39390>"
       ]
      }
     ],
     "prompt_number": 3
    },
    {
     "cell_type": "code",
     "collapsed": false,
     "input": [
      "solver = emigrate.Migrate(system)\n",
      "# plot(solver.z, solver.node_cost(solver.concentrations))\n",
      "# plot(solver.z, solver.node_flux(solver.concentrations))\n",
      "\n",
      "plot(solver.z, solver.second_derivative(solver.concentrations)[2,:])\n",
      "# plot(solver.z, solver.x)\n",
      "# print solver.differ.A1\n",
      "# plot(solver.z, solver.first_derivative(solver.concentrations)[2,:])\n",
      "show()\n",
      "print solver.x.T.shape"
     ],
     "language": "python",
     "metadata": {},
     "outputs": [
      {
       "metadata": {},
       "output_type": "display_data",
       "png": "[encoded data removed]",
       "text": [
        "<matplotlib.figure.Figure at 0x10cdcde50>"
       ]
      },
      {
       "output_type": "stream",
       "stream": "stdout",
       "text": [
        "(100,)\n"
       ]
      }
     ],
     "prompt_number": 4
    },
    {
     "cell_type": "code",
     "collapsed": false,
     "input": [
      "t = np.linspace(0, 3e3, 50)\n",
      "solver.solve(t, method='rk45')\n",
      "for my_sol in solver.solution:\n",
      "        for sub_sol in my_sol:\n",
      "            plot(solver.z, sub_sol)\n",
      "show()"
     ],
     "language": "python",
     "metadata": {},
     "outputs": [
      {
       "output_type": "stream",
       "stream": "stdout",
       "text": [
        "solver failed at time 61.2244897959\n"
       ]
      },
      {
       "output_type": "stream",
       "stream": "stderr",
       "text": [
        "/usr/local/lib/python2.7/site-packages/scipy/integrate/_ode.py:949: UserWarning: dopri5: larger nmax is needed\n",
        "  self.messages.get(idid, 'Unexpected idid=%s' % idid))\n"
       ]
      },
      {
       "ename": "ValueError",
       "evalue": "total size of new array must be unchanged",
       "output_type": "pyerr",
       "traceback": [
        "\u001b[0;31m---------------------------------------------------------------------------\u001b[0m\n\u001b[0;31mValueError\u001b[0m                                Traceback (most recent call last)",
        "\u001b[0;32m<ipython-input-5-47aeb77f37f7>\u001b[0m in \u001b[0;36m<module>\u001b[0;34m()\u001b[0m\n\u001b[1;32m      1\u001b[0m \u001b[0mt\u001b[0m \u001b[0;34m=\u001b[0m \u001b[0mnp\u001b[0m\u001b[0;34m.\u001b[0m\u001b[0mlinspace\u001b[0m\u001b[0;34m(\u001b[0m\u001b[0;36m0\u001b[0m\u001b[0;34m,\u001b[0m \u001b[0;36m3e3\u001b[0m\u001b[0;34m,\u001b[0m \u001b[0;36m50\u001b[0m\u001b[0;34m)\u001b[0m\u001b[0;34m\u001b[0m\u001b[0m\n\u001b[0;32m----> 2\u001b[0;31m \u001b[0msolver\u001b[0m\u001b[0;34m.\u001b[0m\u001b[0msolve\u001b[0m\u001b[0;34m(\u001b[0m\u001b[0mt\u001b[0m\u001b[0;34m,\u001b[0m \u001b[0mmethod\u001b[0m\u001b[0;34m=\u001b[0m\u001b[0;34m'rk45'\u001b[0m\u001b[0;34m)\u001b[0m\u001b[0;34m\u001b[0m\u001b[0m\n\u001b[0m\u001b[1;32m      3\u001b[0m \u001b[0;32mfor\u001b[0m \u001b[0mmy_sol\u001b[0m \u001b[0;32min\u001b[0m \u001b[0msolver\u001b[0m\u001b[0;34m.\u001b[0m\u001b[0msolution\u001b[0m\u001b[0;34m:\u001b[0m\u001b[0;34m\u001b[0m\u001b[0m\n\u001b[1;32m      4\u001b[0m         \u001b[0;32mfor\u001b[0m \u001b[0msub_sol\u001b[0m \u001b[0;32min\u001b[0m \u001b[0mmy_sol\u001b[0m\u001b[0;34m:\u001b[0m\u001b[0;34m\u001b[0m\u001b[0m\n\u001b[1;32m      5\u001b[0m             \u001b[0mplot\u001b[0m\u001b[0;34m(\u001b[0m\u001b[0msolver\u001b[0m\u001b[0;34m.\u001b[0m\u001b[0mz\u001b[0m\u001b[0;34m,\u001b[0m \u001b[0msub_sol\u001b[0m\u001b[0;34m)\u001b[0m\u001b[0;34m\u001b[0m\u001b[0m\n",
        "\u001b[0;32m/Users/lewis/Documents/Python/emigrate/emigrate/Migrate.py\u001b[0m in \u001b[0;36msolve\u001b[0;34m(self, t, method)\u001b[0m\n\u001b[1;32m    165\u001b[0m \u001b[0;34m\u001b[0m\u001b[0m\n\u001b[1;32m    166\u001b[0m         self.solution = [sol.reshape(self.concentrations.shape)\n\u001b[0;32m--> 167\u001b[0;31m                          for sol in self.solution]\n\u001b[0m\u001b[1;32m    168\u001b[0m \u001b[0;34m\u001b[0m\u001b[0m\n\u001b[1;32m    169\u001b[0m     \u001b[0;32mdef\u001b[0m \u001b[0mcalc_equilibrium\u001b[0m\u001b[0;34m(\u001b[0m\u001b[0mself\u001b[0m\u001b[0;34m)\u001b[0m\u001b[0;34m:\u001b[0m\u001b[0;34m\u001b[0m\u001b[0m\n",
        "\u001b[0;31mValueError\u001b[0m: total size of new array must be unchanged"
       ]
      }
     ],
     "prompt_number": 5
    },
    {
     "cell_type": "code",
     "collapsed": false,
     "input": [],
     "language": "python",
     "metadata": {},
     "outputs": []
    },
    {
     "cell_type": "code",
     "collapsed": false,
     "input": [],
     "language": "python",
     "metadata": {},
     "outputs": []
    }
   ],
   "metadata": {}
  }
 ]
}