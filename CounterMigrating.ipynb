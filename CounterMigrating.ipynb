{
 "metadata": {
  "name": "",
  "signature": "sha256:175130bcbb39a4a81b0da76267066cb7fb57c156043240d32bfab70bde41bf96"
 },
 "nbformat": 3,
 "nbformat_minor": 0,
 "worksheets": [
  {
   "cells": [
    {
     "cell_type": "markdown",
     "metadata": {},
     "source": [
      "Emigrate\n",
      "========\n",
      "Emigrate is an electrophoresis simulator written in python. It is based on the the scipy.integrate.ode solver. It is written with multiple simulation modules to allow varying solution schemes in order to allow easy extension."
     ]
    },
    {
     "cell_type": "markdown",
     "metadata": {},
     "source": [
      "First, we'll import emigrate. We'll also import ionize, since ionize Ions are used during initialization. \n",
      "\n",
      "We'll also import numpy to set up some vectors, and cProfile for code profiling"
     ]
    },
    {
     "cell_type": "code",
     "collapsed": false,
     "input": [
      "import emigrate\n",
      "import ionize\n",
      "\n",
      "import numpy as np\n",
      "import cProfile\n",
      "import time"
     ],
     "language": "python",
     "metadata": {},
     "outputs": [],
     "prompt_number": 1
    },
    {
     "cell_type": "markdown",
     "metadata": {},
     "source": [
      "Initial Condition\n",
      "-----------------\n",
      "To define an initial condition, use the emegrate.Constructor class. This class creates the concentration profiles. It by default creates error function concentration profiles as junctions between the ionize Solution objects specified. "
     ]
    },
    {
     "cell_type": "code",
     "collapsed": false,
     "input": [
      "solutions = [ionize.Solution(['caproic acid', 'tris', 'alexa fluor 488'], [.0075, .015, .003]),\n",
      "             ionize.Solution(['hydrochloric acid', 'bis-tris'], [.07, .1])\n",
      "            ]\n",
      "\n",
      "system = emigrate.Electrolyte().construct(lengths=[0.01]*len(solutions),\n",
      "                         n_nodes=200,\n",
      "                         interface_length=.0005,\n",
      "                         solutions=solutions,\n",
      "                         voltage= -10., current_density=None,\n",
      "                         domain_mode='centered'\n",
      "                         )\n",
      "for i in range(len(system.ions)):\n",
      "    plot(system.nodes, system.concentrations[i,:])\n",
      "xlabel('x (m)')\n",
      "ylabel('concentration (M)')\n",
      "show()"
     ],
     "language": "python",
     "metadata": {},
     "outputs": [
      {
       "metadata": {},
       "output_type": "display_data",
       "png": "[encoded data removed]",
       "text": [
        "<matplotlib.figure.Figure at 0x10e94cfd0>"
       ]
      }
     ]
    },
    {
     "cell_type": "markdown",
     "metadata": {},
     "source": [
      "Solving\n",
      "-------\n",
      "We solve the solution by using the Migrate class. This class takes the system defined by the Constructor as an input and solves it. "
     ]
    },
    {
     "cell_type": "code",
     "collapsed": false,
     "input": [
      "solver = emigrate.Migrate(system, 'slip')\n",
      "tmax = 500\n",
      "dt = 1\n",
      "ode_solver = 'dopri5'\n",
      "profile = False\n",
      "\n",
      "if profile:\n",
      "    cProfile.run(\"solver.solve(tmax, dt, method=ode_solver)\")\n",
      "else:\n",
      "    epoch = time.time()\n",
      "    solver.solve(tmax, dt, method=ode_solver)\n",
      "    print 'Solved in {} seconds.'.format(time.time()-epoch)"
     ],
     "language": "python",
     "metadata": {},
     "outputs": []
    },
    {
     "cell_type": "code",
     "collapsed": false,
     "input": [
      "for solution in solver.solution.values():\n",
      "        for ion_concentration in solution.concentrations:\n",
      "            plot(solution.nodes*1000, ion_concentration, '-')\n",
      "xlabel('x (mm)')\n",
      "ylabel('concentration (M)')\n",
      "show()\n",
      "\n",
      "figure()\n",
      "for solution in solver.solution.values():\n",
      "        plot(solution.nodes*1000, solution.pH, '-')\n",
      "xlabel('x (mm)')\n",
      "ylabel('pH')\n",
      "show()"
     ],
     "language": "python",
     "metadata": {},
     "outputs": []
    },
    {
     "cell_type": "markdown",
     "metadata": {},
     "source": [
      "Modules\n",
      "-------\n",
      "\n",
      "The solver loads two types of modules:\n",
      "- The flux module.  This module defines the flux of ions through the domain.\n",
      "- The equilibrium module. This module defines the mobility, diffusivity, and molar conductivity of ions. These values are used by the flux module. \n",
      "\n",
      "By default, the flux module called is the compact solver with no adaptive grid.\n",
      "The equilibrium solver called is the fixed pH solver. \n",
      "\n",
      "### Variable pH Solver"
     ]
    },
    {
     "cell_type": "code",
     "collapsed": false,
     "input": [],
     "language": "python",
     "metadata": {},
     "outputs": []
    }
   ],
   "metadata": {}
  }
 ]
}