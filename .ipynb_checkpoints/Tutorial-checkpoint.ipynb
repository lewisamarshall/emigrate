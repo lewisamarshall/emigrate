{
 "metadata": {
  "name": "",
  "signature": "sha256:61496b779e6b2851fa9633cdb6f5d6c40d54c85a2982e6419ce3c1be9bc58239"
 },
 "nbformat": 3,
 "nbformat_minor": 0,
 "worksheets": [
  {
   "cells": [
    {
     "cell_type": "markdown",
     "metadata": {},
     "source": [
      "Emigrate\n",
      "========\n",
      "Emigrate is an electrophoresis simulator. "
     ]
    },
    {
     "cell_type": "code",
     "collapsed": false,
     "input": [
      "import emigrate\n",
      "import ionize\n",
      "import numpy as np\n",
      "import cProfile"
     ],
     "language": "python",
     "metadata": {},
     "outputs": [],
     "prompt_number": 1
    },
    {
     "cell_type": "code",
     "collapsed": false,
     "input": [
      "tris = ionize.load_ion('tris')\n",
      "\n",
      "solutions = [ionize.Solution(['caproic acid', tris], [.05, .1]),\n",
      "                 ionize.Solution(['hydrochloric acid', tris], [.05, .1])\n",
      "                 ]\n",
      "\n",
      "system = emigrate.Constructor(domain_length=0.005,\n",
      "                         nodes=100,\n",
      "                         interface_length=.0005,\n",
      "                         solutions=solutions,\n",
      "                         V=10, I=None,\n",
      "                         domain_mode='centered'\n",
      "                         )"
     ],
     "language": "python",
     "metadata": {},
     "outputs": [],
     "prompt_number": 2
    },
    {
     "cell_type": "code",
     "collapsed": false,
     "input": [
      "for i in range(3):\n",
      "    plot(system.domain, system.concentrations[i,:])\n",
      "show()"
     ],
     "language": "python",
     "metadata": {},
     "outputs": [
      {
       "metadata": {},
       "output_type": "display_data",
       "png": "[encoded data removed]",
       "text": [
        "<matplotlib.figure.Figure at 0x10fe41210>"
       ]
      }
     ],
     "prompt_number": 3
    },
    {
     "cell_type": "code",
     "collapsed": false,
     "input": [
      "solver = emigrate.Migrate(system)\n",
      "# plot(solver.z, solver.node_cost(solver.concentrations))\n",
      "plot(solver.z, solver.node_flux(solver.concentrations))\n",
      "# plot(solver.z, solver.first_derivative(solver.concentrations)[2,:])\n",
      "show()"
     ],
     "language": "python",
     "metadata": {},
     "outputs": [
      {
       "metadata": {},
       "output_type": "display_data",
       "png": "[encoded data removed]",
       "text": [
        "<matplotlib.figure.Figure at 0x1100d4910>"
       ]
      }
     ],
     "prompt_number": 6
    },
    {
     "cell_type": "code",
     "collapsed": false,
     "input": [
      "t = np.linspace(0, 3e3, 50)\n",
      "solver.solve(t, method='rk45')\n",
      "for my_sol in solver.solution:\n",
      "        for sub_sol in my_sol:\n",
      "            plot(solver.z, sub_sol)\n",
      "show()"
     ],
     "language": "python",
     "metadata": {},
     "outputs": []
    },
    {
     "cell_type": "code",
     "collapsed": false,
     "input": [],
     "language": "python",
     "metadata": {},
     "outputs": []
    }
   ],
   "metadata": {}
  }
 ]
}