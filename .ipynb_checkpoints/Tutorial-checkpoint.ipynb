{
 "metadata": {
  "name": "",
  "signature": "sha256:984501d955f787ffa27643098482a717640eb2bf2c814c70b7fee08672918980"
 },
 "nbformat": 3,
 "nbformat_minor": 0,
 "worksheets": [
  {
   "cells": [
    {
     "cell_type": "markdown",
     "metadata": {},
     "source": [
      "Emigrate\n",
      "========\n",
      "Emigrate is an electrophoresis simulator written in python. It is based on the the scipy.integrate.ode solver. It is written with multiple simulation modules to allow varying solution schemes in order to allow easy extension."
     ]
    },
    {
     "cell_type": "markdown",
     "metadata": {},
     "source": [
      "First, we'll import emigrate. We'll also import ionize, since ionize Ions are used during initialization. \n",
      "\n",
      "We'll also import numpy to set up some vectors, and cProfile for code profiling"
     ]
    },
    {
     "cell_type": "code",
     "collapsed": false,
     "input": [
      "import emigrate\n",
      "import ionize\n",
      "import numpy as np\n",
      "import cProfile"
     ],
     "language": "python",
     "metadata": {},
     "outputs": [],
     "prompt_number": 1
    },
    {
     "cell_type": "markdown",
     "metadata": {},
     "source": [
      "Initial Condition\n",
      "-----------------\n",
      "To define an initial condition, use the emegrate.Constructor class. This class creates the concentration profiles. It by default creates error function concentration profiles as junctions between the ionize Solution objects specified. "
     ]
    },
    {
     "cell_type": "code",
     "collapsed": false,
     "input": [
      "solutions = [ionize.Solution(['caproic acid', 'bis-tris'], [.05, .105]),\n",
      "             ionize.Solution(['acetic acid', 'bis-tris'], [.05, .1])\n",
      "            ]\n",
      "system = emigrate.Constructor(domain_length=0.01,\n",
      "                         nodes=1002,\n",
      "                         interface_length=.0005,\n",
      "                         solutions=solutions,\n",
      "                         V=-10., I=None,\n",
      "                         domain_mode='centered'\n",
      "                         )\n",
      "for i in range(len(system.ions)):\n",
      "    plot(system.domain, system.concentrations[i,:])\n",
      "show()"
     ],
     "language": "python",
     "metadata": {},
     "outputs": [
      {
       "metadata": {},
       "output_type": "display_data",
       "png": "[encoded data removed]",
       "text": [
        "<matplotlib.figure.Figure at 0x108a35e10>"
       ]
      }
     ],
     "prompt_number": 2
    },
    {
     "cell_type": "markdown",
     "metadata": {},
     "source": [
      "Solving\n",
      "-------\n",
      "We solve the solution by using the Migrate class. This class takes the system defined by the Constructor as an input and solves it. "
     ]
    },
    {
     "cell_type": "code",
     "collapsed": false,
     "input": [
      "solver = emigrate.Migrate(system)\n",
      "tmax = 50\n",
      "dt = 5\n",
      "ode_solver = 'dopri5'\n",
      "profile = True\n",
      "\n",
      "if profile:\n",
      "    cProfile.run(\"solver.solve(tmax, dt, method=ode_solver)\")\n",
      "else:\n",
      "    solver.solve(tmax, dt, method=ode_solver)\n",
      "\n",
      "for solution in solver.solution.values():\n",
      "        x = solution[0]\n",
      "        concentrations = solution[1]\n",
      "        for ion_concentration in concentrations:\n",
      "            plot(x, ion_concentration, '-')\n",
      "show()"
     ],
     "language": "python",
     "metadata": {},
     "outputs": [
      {
       "output_type": "stream",
       "stream": "stdout",
       "text": [
        "         15484341 function calls in 19.725 seconds\n",
        "\n",
        "   Ordered by: standard name\n",
        "\n",
        "   ncalls  tottime  percall  cumtime  percall filename:lineno(function)\n",
        "        1    0.000    0.000   19.725   19.725 <string>:1(<module>)\n",
        "     1169    0.002    0.000    0.112    0.000 Differentiate.py:31(first_derivative)\n",
        "     1169    0.003    0.000    0.123    0.000 Differentiate.py:42(second_derivative)\n",
        "      192    0.000    0.000   19.255    0.100 Equilibrate_Base.py:28(equilibrate)\n",
        "     1169    0.002    0.000    0.114    0.000 Flux_Base.py:27(first_derivative)\n",
        "     1169    0.002    0.000    0.126    0.000 Flux_Base.py:31(second_derivative)\n",
        "     1169    0.001    0.000    0.001    0.000 Flux_Base.py:35(set_boundary)\n",
        "     1170    0.002    0.000    0.010    0.000 Migrate.py:100(compose_state)\n",
        "      202    0.001    0.000    0.011    0.000 Migrate.py:107(write_solution)\n",
        "        1    0.000    0.000   19.725   19.725 Migrate.py:118(solve)\n",
        "      192    0.001    0.000   19.267    0.100 Migrate.py:148(solout)\n",
        "     1169    0.005    0.000    0.437    0.000 Migrate.py:154(objective)\n",
        "     1564    0.003    0.000    0.005    0.000 Migrate.py:94(decompose_state)\n",
        "      192    1.813    0.009   19.182    0.100 Variable_pH.py:119(calc_pH)\n",
        "      192    0.003    0.000    0.006    0.000 Variable_pH.py:148(calc_mobility)\n",
        "      192    0.009    0.000    0.011    0.000 Variable_pH.py:153(calc_diffusivity)\n",
        "      192    0.006    0.000    0.008    0.000 Variable_pH.py:161(calc_molar_conductivity)\n",
        "      192    0.035    0.000    0.045    0.000 Variable_pH.py:168(calc_ionization_fraction)\n",
        "      192    0.002    0.000   19.254    0.100 Variable_pH.py:41(calc_equilibrium)\n",
        "        2    0.000    0.000    0.000    0.000 _abcoll.py:545(update)\n",
        "     3298    0.002    0.000    0.028    0.000 _methods.py:31(_sum)\n",
        "   384768    0.179    0.000    1.269    0.000 _methods.py:40(_all)\n",
        "        1    0.000    0.000    0.000    0.000 _ode.py:327(__init__)\n",
        "       11    0.000    0.000    0.000    0.000 _ode.py:335(y)\n",
        "        1    0.000    0.000    0.000    0.000 _ode.py:339(set_initial_value)\n",
        "        1    0.000    0.000    0.000    0.000 _ode.py:351(set_integrator)\n",
        "       10    0.000    0.000   19.724    1.972 _ode.py:376(integrate)\n",
        "       12    0.000    0.000    0.000    0.000 _ode.py:395(successful)\n",
        "        1    0.000    0.000    0.000    0.000 _ode.py:413(set_solout)\n",
        "        1    0.000    0.000    0.000    0.000 _ode.py:543(find_integrator)\n",
        "        1    0.000    0.000    0.000    0.000 _ode.py:894(__init__)\n",
        "        2    0.000    0.000    0.000    0.000 _ode.py:919(set_solout)\n",
        "        2    0.000    0.000    0.000    0.000 _ode.py:927(reset)\n",
        "       10    0.021    0.002   19.724    1.972 _ode.py:944(run)\n",
        "      192    0.000    0.000   19.267    0.100 _ode.py:953(_solout)\n",
        "        6    0.000    0.000    0.000    0.000 _weakrefset.py:70(__contains__)\n",
        "        2    0.000    0.000    0.000    0.000 abc.py:128(__instancecheck__)\n",
        "        2    0.000    0.000    0.000    0.000 abc.py:148(__subclasscheck__)\n",
        "     2338    0.003    0.000    0.103    0.000 base.py:233(dot)\n",
        "     2338    0.007    0.000    0.100    0.000 base.py:282(__mul__)\n",
        "     4676    0.001    0.000    0.001    0.000 base.py:93(get_shape)\n",
        "      202    0.002    0.000    0.009    0.000 collections.py:100(keys)\n",
        "        2    0.000    0.000    0.000    0.000 collections.py:38(__init__)\n",
        "      193    0.001    0.000    0.001    0.000 collections.py:54(__setitem__)\n",
        "    17616    0.006    0.000    0.006    0.000 collections.py:73(__iter__)\n",
        "     1169    0.008    0.000    0.416    0.000 compact.py:20(flux)\n",
        "     1169    0.010    0.000    0.127    0.000 compact.py:30(set_current)\n",
        "     1169    0.008    0.000    0.149    0.000 compact.py:34(set_E)\n",
        "     1169    0.005    0.000    0.130    0.000 compact.py:39(diffusive_flux)\n",
        "     1169    0.014    0.000    0.127    0.000 compact.py:46(electromigration_flux)\n",
        "     2338    0.011    0.000    0.031    0.000 compact.py:53(conductivity)\n",
        "     2338    0.012    0.000    0.092    0.000 compressed.py:451(_mul_multivector)\n",
        "     2338    0.001    0.000    0.001    0.000 data.py:28(_get_dtype)\n",
        "   192384    0.160    0.000    0.550    0.000 fromnumeric.py:1283(ravel)\n",
        "   192384    0.107    0.000    0.230    0.000 fromnumeric.py:1372(nonzero)\n",
        "     3298    0.006    0.000    0.036    0.000 fromnumeric.py:1623(sum)\n",
        "   192384    0.241    0.000    1.232    0.000 fromnumeric.py:1844(all)\n",
        "      192    0.005    0.000    0.006    0.000 function_base.py:3427(delete)\n",
        "   192384    0.183    0.000    0.183    0.000 linalg.py:101(get_linalg_error_extobj)\n",
        "   192384    0.194    0.000    0.454    0.000 linalg.py:106(_makearray)\n",
        "   577152    0.223    0.000    0.366    0.000 linalg.py:111(isComplexType)\n",
        "   384768    0.184    0.000    0.265    0.000 linalg.py:124(_realType)\n",
        "   192384    0.444    0.000    0.763    0.000 linalg.py:139(_commonType)\n",
        "   192384    0.125    0.000    0.148    0.000 linalg.py:198(_assertRankAtLeast2)\n",
        "   192384    0.224    0.000    0.352    0.000 linalg.py:209(_assertNdSquareness)\n",
        "   192384    0.322    0.000    1.145    0.000 linalg.py:214(_assertFinite)\n",
        "   192384    0.114    0.000    0.114    0.000 linalg.py:219(_assertNoEmpty2d)\n",
        "   192384    3.916    0.000    8.897    0.000 linalg.py:820(eigvals)\n",
        "   192384    0.192    0.000    0.607    0.000 numeric.py:141(ones)\n",
        "        1    0.000    0.000    0.000    0.000 numeric.py:1910(isscalar)\n",
        "   577537    0.298    0.000    0.610    0.000 numeric.py:394(asarray)\n",
        "   769536    0.471    0.000    1.025    0.000 numeric.py:464(asanyarray)\n",
        "   192384    2.801    0.000   17.242    0.000 polynomial.py:151(roots)\n",
        "        3    0.000    0.000    0.000    0.000 re.py:134(match)\n",
        "        3    0.000    0.000    0.000    0.000 re.py:226(_compile)\n",
        "   192384    0.375    0.000    1.964    0.000 shape_base.py:230(hstack)\n",
        "   577152    0.899    0.000    1.881    0.000 shape_base.py:8(atleast_1d)\n",
        "     2338    0.002    0.000    0.003    0.000 sputils.py:65(upcast_char)\n",
        "   192384    0.710    0.000    1.070    0.000 twodim_base.py:242(diag)\n",
        "   192384    0.034    0.000    0.034    0.000 {abs}\n",
        "   194724    0.046    0.000    0.046    0.000 {getattr}\n",
        "        2    0.000    0.000    0.000    0.000 {hasattr}\n",
        "     3685    0.002    0.000    0.002    0.000 {isinstance}\n",
        "   961920    0.278    0.000    0.278    0.000 {issubclass}\n",
        "  2308618    0.269    0.000    0.269    0.000 {len}\n",
        "   192384    0.070    0.000    0.070    0.000 {math.log10}\n",
        "   192384    0.082    0.000    0.082    0.000 {max}\n",
        "   384768    0.234    0.000    1.503    0.000 {method 'all' of 'numpy.ndarray' objects}\n",
        "   961920    0.176    0.000    0.176    0.000 {method 'append' of 'list' objects}\n",
        "   192384    0.212    0.000    0.212    0.000 {method 'astype' of 'numpy.ndarray' objects}\n",
        "        1    0.000    0.000    0.000    0.000 {method 'disable' of '_lsprof.Profiler' objects}\n",
        "     2340    0.004    0.000    0.004    0.000 {method 'flatten' of 'numpy.ndarray' objects}\n",
        "   387109    0.082    0.000    0.082    0.000 {method 'get' of 'dict' objects}\n",
        "      192    0.000    0.000    0.000    0.000 {method 'item' of 'numpy.ndarray' objects}\n",
        "        2    0.000    0.000    0.000    0.000 {method 'items' of 'dict' objects}\n",
        "        3    0.000    0.000    0.000    0.000 {method 'match' of '_sre.SRE_Pattern' objects}\n",
        "   192384    0.123    0.000    0.123    0.000 {method 'nonzero' of 'numpy.ndarray' objects}\n",
        "   197060    0.215    0.000    0.215    0.000 {method 'ravel' of 'numpy.ndarray' objects}\n",
        "   388066    1.116    0.000    1.116    0.000 {method 'reduce' of 'numpy.ufunc' objects}\n",
        "     1564    0.002    0.000    0.002    0.000 {method 'reshape' of 'numpy.ndarray' objects}\n",
        "      192    0.001    0.000    0.001    0.000 {method 'resize' of 'numpy.ndarray' objects}\n",
        "     2338    0.127    0.000    0.127    0.000 {method 'solve' of 'SuperLU' objects}\n",
        "   192384    0.046    0.000    0.046    0.000 {min}\n",
        "  1347266    0.867    0.000    0.867    0.000 {numpy.core.multiarray.array}\n",
        "   193554    0.337    0.000    0.337    0.000 {numpy.core.multiarray.concatenate}\n",
        "   192384    0.277    0.000    0.277    0.000 {numpy.core.multiarray.copyto}\n",
        "   192576    0.138    0.000    0.138    0.000 {numpy.core.multiarray.empty}\n",
        "   388279    0.461    0.000    0.461    0.000 {numpy.core.multiarray.zeros}\n",
        "      192    0.002    0.000    0.002    0.000 {range}\n",
        "     2338    0.044    0.000    0.044    0.000 {scipy.sparse._sparsetools.csc_matvecs}\n",
        "     1169    0.100    0.000    0.100    0.000 {sum}\n",
        "\n",
        "\n"
       ]
      },
      {
       "metadata": {},
       "output_type": "display_data",
       "png": "[encoded data removed]",
       "text": [
        "<matplotlib.figure.Figure at 0x108bd5f50>"
       ]
      }
     ],
     "prompt_number": 4
    },
    {
     "cell_type": "markdown",
     "metadata": {},
     "source": [
      "Modules\n",
      "-------\n",
      "\n",
      "The solver loads two types of modules:\n",
      "- The flux module.  This module defines the flux of ions through the domain.\n",
      "- The equilibrium module. This module defines the mobility, diffusivity, and molar conductivity of ions. These values are used by the flux module. \n",
      "\n",
      "By default, the flux module called is the compact solver with no adaptive grid.\n",
      "The equilibrium solver called is the fixed pH solver. \n",
      "\n",
      "### Variable pH Solver"
     ]
    },
    {
     "cell_type": "code",
     "collapsed": false,
     "input": [],
     "language": "python",
     "metadata": {},
     "outputs": [],
     "prompt_number": 3
    },
    {
     "cell_type": "code",
     "collapsed": false,
     "input": [],
     "language": "python",
     "metadata": {},
     "outputs": [],
     "prompt_number": 3
    }
   ],
   "metadata": {}
  }
 ]
}