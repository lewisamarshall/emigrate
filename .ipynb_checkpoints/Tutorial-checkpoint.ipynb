{
 "metadata": {
  "name": "",
  "signature": "sha256:92e8e7850c2a92c81977db608aed1854e3a3a4c7c6eb8dfe4c13a8a45e14757e"
 },
 "nbformat": 3,
 "nbformat_minor": 0,
 "worksheets": [
  {
   "cells": [
    {
     "cell_type": "markdown",
     "metadata": {},
     "source": [
      "Emigrate\n",
      "========\n",
      "Emigrate is an electrophoresis simulator. "
     ]
    },
    {
     "cell_type": "code",
     "collapsed": false,
     "input": [
      "import emigrate\n",
      "import ionize\n",
      "import numpy as np\n",
      "import cProfile"
     ],
     "language": "python",
     "metadata": {},
     "outputs": [],
     "prompt_number": 1
    },
    {
     "cell_type": "code",
     "collapsed": false,
     "input": [
      "tris = ionize.load_ion('tris')\n",
      "\n",
      "solutions = [ionize.Solution(['hydrochloric acid', tris], [.05, .105]),\n",
      "                 ionize.Solution(['caproic acid', tris], [.05, .1])\n",
      "                 ]\n",
      "\n",
      "system = emigrate.Constructor(domain_length=0.008,\n",
      "                         nodes=100,\n",
      "                         interface_length=.005,\n",
      "                         solutions=solutions,\n",
      "                         V=10, I=None,\n",
      "                         domain_mode='centered'\n",
      "                         )"
     ],
     "language": "python",
     "metadata": {},
     "outputs": [],
     "prompt_number": 2
    },
    {
     "cell_type": "code",
     "collapsed": false,
     "input": [
      "for i in range(3):\n",
      "    plot(system.domain, system.concentrations[i,:])\n",
      "show()"
     ],
     "language": "python",
     "metadata": {},
     "outputs": [
      {
       "metadata": {},
       "output_type": "display_data",
       "png": "[encoded data removed]",
       "text": [
        "<matplotlib.figure.Figure at 0x105c939d0>"
       ]
      }
     ],
     "prompt_number": 3
    },
    {
     "cell_type": "code",
     "collapsed": false,
     "input": [
      "solver = emigrate.Migrate(system)\n",
      "# plot(solver.z, solver.node_cost(solver.concentrations))\n",
      "# plot(solver.z, solver.node_flux(solver.concentrations))\n",
      "\n",
      "# plot(solver.z, solver.second_derivative(solver.concentrations)[2,:])\n",
      "# plot(solver.z, solver.x)\n",
      "# print solver.differ.A1\n",
      "# plot(solver.z, solver.first_derivative(solver.concentrations)[2,:])\n",
      "# show()\n",
      "print solver.x.T.shape"
     ],
     "language": "python",
     "metadata": {},
     "outputs": [
      {
       "output_type": "stream",
       "stream": "stdout",
       "text": [
        "(50,)\n"
       ]
      }
     ],
     "prompt_number": 4
    },
    {
     "cell_type": "code",
     "collapsed": false,
     "input": [
      "# solver.set_derivatives()\n",
      "# solver.adaptive_grid = True\n",
      "# for i in range(3):\n",
      "#     plot(system.domain, solver.flux()[i,:])\n",
      "# show()"
     ],
     "language": "python",
     "metadata": {},
     "outputs": [],
     "prompt_number": 5
    },
    {
     "cell_type": "code",
     "collapsed": false,
     "input": [
      "# solver.set_derivatives()\n",
      "# solver.adaptive_grid = True\n",
      "# # for i in range(3):\n",
      "# #     plot(system.domain, solver.flux()[i,:])\n",
      "# plot(system.domain, solver.node_flux())\n",
      "# print solver.node_flux()\n",
      "# show()"
     ],
     "language": "python",
     "metadata": {},
     "outputs": [],
     "prompt_number": 6
    },
    {
     "cell_type": "code",
     "collapsed": false,
     "input": [
      "solver.adaptive_grid = True\n",
      "t = np.linspace(0, 1e3, 50)\n",
      "# cProfile.run(\"solver.solve(t, method='lsoda')\")\n",
      "solver.solve(t, method='rk45')\n",
      "for my_sol in solver.solution:\n",
      "        x = my_sol[1]\n",
      "        conc = my_sol[2]\n",
      "        for sub_sol in conc:\n",
      "#             plot(solver.z, x)\n",
      "            plot(x, sub_sol, '-')\n",
      "xlim(-.04, .04)\n",
      "ylim(0, .2)\n",
      "show()"
     ],
     "language": "python",
     "metadata": {},
     "outputs": [
      {
       "output_type": "stream",
       "stream": "stdout",
       "text": [
        "solver failed at time 204.081632653\n"
       ]
      },
      {
       "output_type": "stream",
       "stream": "stderr",
       "text": [
        "/usr/local/lib/python2.7/site-packages/scipy/integrate/_ode.py:949: UserWarning: dopri5: larger nmax is needed\n",
        "  self.messages.get(idid, 'Unexpected idid=%s' % idid))\n"
       ]
      },
      {
       "metadata": {},
       "output_type": "display_data",
       "png": "[encoded data removed]",
       "text": [
        "<matplotlib.figure.Figure at 0x105e6cb10>"
       ]
      }
     ],
     "prompt_number": 7
    },
    {
     "cell_type": "code",
     "collapsed": false,
     "input": [
      "# print len(solver.full_solution)\n",
      "# print len(solver.solution)\n",
      "# # print [sol[0] for sol in solver.full_solution]\n",
      "# plot(np.diff([sol[0] for sol in solver.full_solution]))"
     ],
     "language": "python",
     "metadata": {},
     "outputs": [],
     "prompt_number": 8
    },
    {
     "cell_type": "code",
     "collapsed": false,
     "input": [],
     "language": "python",
     "metadata": {},
     "outputs": [],
     "prompt_number": 8
    }
   ],
   "metadata": {}
  }
 ]
}