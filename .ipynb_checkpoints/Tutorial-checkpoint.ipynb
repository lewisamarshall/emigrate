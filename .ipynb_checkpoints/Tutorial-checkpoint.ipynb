{
 "metadata": {
  "name": "",
  "signature": "sha256:5fbe6849a46fc87e4d5e36bdf74150594e08c2b96e52c14cd2ecd2f1963f0525"
 },
 "nbformat": 3,
 "nbformat_minor": 0,
 "worksheets": [
  {
   "cells": [
    {
     "cell_type": "markdown",
     "metadata": {},
     "source": [
      "Emigrate\n",
      "========\n",
      "Emigrate is an electrophoresis simulator. "
     ]
    },
    {
     "cell_type": "code",
     "collapsed": false,
     "input": [
      "import emigrate\n",
      "import ionize\n",
      "import numpy as np\n",
      "import cProfile"
     ],
     "language": "python",
     "metadata": {},
     "outputs": [],
     "prompt_number": 1
    },
    {
     "cell_type": "code",
     "collapsed": false,
     "input": [
      "tris = ionize.load_ion('tris')\n",
      "\n",
      "solutions = [ionize.Solution(['caproic acid', tris], [.05, .105]),\n",
      "                 ionize.Solution(['hydrochloric acid', tris], [.05, .1])\n",
      "                 ]\n",
      "\n",
      "system = emigrate.Constructor(domain_length=0.008,\n",
      "                         nodes=50,\n",
      "                         interface_length=.005,\n",
      "                         solutions=solutions,\n",
      "                         V=10, I=None,\n",
      "                         domain_mode='centered'\n",
      "                         )"
     ],
     "language": "python",
     "metadata": {},
     "outputs": [],
     "prompt_number": 2
    },
    {
     "cell_type": "code",
     "collapsed": false,
     "input": [
      "for i in range(3):\n",
      "    plot(system.domain, system.concentrations[i,:])\n",
      "show()"
     ],
     "language": "python",
     "metadata": {},
     "outputs": [
      {
       "metadata": {},
       "output_type": "display_data",
       "png": "[encoded data removed]",
       "text": [
        "<matplotlib.figure.Figure at 0x111f60410>"
       ]
      }
     ],
     "prompt_number": 3
    },
    {
     "cell_type": "code",
     "collapsed": false,
     "input": [
      "solver = emigrate.Migrate(system)\n",
      "# plot(solver.z, solver.node_cost(solver.concentrations))\n",
      "# plot(solver.z, solver.node_flux(solver.concentrations))\n",
      "\n",
      "# plot(solver.z, solver.second_derivative(solver.concentrations)[2,:])\n",
      "# plot(solver.z, solver.x)\n",
      "# print solver.differ.A1\n",
      "# plot(solver.z, solver.first_derivative(solver.concentrations)[2,:])\n",
      "# show()\n",
      "print solver.x.T.shape"
     ],
     "language": "python",
     "metadata": {},
     "outputs": [
      {
       "output_type": "stream",
       "stream": "stdout",
       "text": [
        "(50,)\n"
       ]
      }
     ],
     "prompt_number": 4
    },
    {
     "cell_type": "code",
     "collapsed": false,
     "input": [
      "t = np.linspace(0.01, 1e0, 25)\n",
      "solver.solve(t, method='rk45')\n",
      "for my_sol in solver.solution:\n",
      "        x = my_sol[0]\n",
      "        my_sol = my_sol[1]\n",
      "        for sub_sol in my_sol:\n",
      "#             plot(solver.z, x)\n",
      "            plot(x, sub_sol)\n",
      "show()"
     ],
     "language": "python",
     "metadata": {},
     "outputs": [
      {
       "output_type": "stream",
       "stream": "stdout",
       "text": [
        "solver failed at time 0.05125\n"
       ]
      },
      {
       "metadata": {},
       "output_type": "display_data",
       "png": "[encoded data removed]",
       "text": [
        "<matplotlib.figure.Figure at 0x111f605d0>"
       ]
      }
     ],
     "prompt_number": 7
    },
    {
     "cell_type": "code",
     "collapsed": false,
     "input": [],
     "language": "python",
     "metadata": {},
     "outputs": [],
     "prompt_number": 5
    },
    {
     "cell_type": "code",
     "collapsed": false,
     "input": [],
     "language": "python",
     "metadata": {},
     "outputs": [],
     "prompt_number": 5
    }
   ],
   "metadata": {}
  }
 ]
}