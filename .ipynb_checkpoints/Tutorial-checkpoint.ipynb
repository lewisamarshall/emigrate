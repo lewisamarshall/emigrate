{
 "metadata": {
  "name": "",
  "signature": "sha256:e2987ac5868abf7abfeac5e452735c1cc67a2f8be39669860cc2aef46e8ca4fe"
 },
 "nbformat": 3,
 "nbformat_minor": 0,
 "worksheets": [
  {
   "cells": [
    {
     "cell_type": "markdown",
     "metadata": {},
     "source": [
      "Emigrate\n",
      "========\n",
      "Emigrate is an electrophoresis simulator written in python. It is based on the the scipy.integrate.ode solver. It is written with multiple simulation modules to allow varying solution schemes in order to allow easy extension."
     ]
    },
    {
     "cell_type": "markdown",
     "metadata": {},
     "source": [
      "First, we'll import emigrate. We'll also import ionize, since ionize Ions are used during initialization. \n",
      "\n",
      "We'll also import numpy to set up some vectors, and cProfile for code profiling"
     ]
    },
    {
     "cell_type": "code",
     "collapsed": false,
     "input": [
      "import emigrate\n",
      "import ionize\n",
      "\n",
      "import numpy as np\n",
      "import cProfile\n",
      "import time"
     ],
     "language": "python",
     "metadata": {},
     "outputs": [],
     "prompt_number": 1
    },
    {
     "cell_type": "markdown",
     "metadata": {},
     "source": [
      "Initial Condition\n",
      "-----------------\n",
      "To define an initial condition, use the emegrate.Constructor class. This class creates the concentration profiles. It by default creates error function concentration profiles as junctions between the ionize Solution objects specified. "
     ]
    },
    {
     "cell_type": "code",
     "collapsed": false,
     "input": [
      "solutions = [ionize.Solution(['hepes', 'tris'], [.05, .105]),\n",
      "             ionize.Solution(['caproic acid', 'tris', 'fluorescein', 'alexa fluor 488', 'mops', 'acetic acid'], \n",
      "                              [.01, .1, .01, .01, .01, .01]),\n",
      "             ionize.Solution(['hydrochloric acid', 'tris'], [.04, .08]),\n",
      "            ]\n",
      "system = emigrate.Electrolyte().construct(\n",
      "                         lengths=[.005, .001, .02],\n",
      "                         n_nodes=150,\n",
      "                         interface_length=.0005,\n",
      "                         solutions=solutions,\n",
      "                         voltage= -50, current_density=None,\n",
      "                         domain_mode='left',\n",
      "                         )\n",
      "for i in range(len(system.ions)):\n",
      "    plot(system.nodes, system.concentrations[i,:])\n",
      "xlabel('x (m)')\n",
      "ylabel('concentration (M)')\n",
      "xlim([0, .03])\n",
      "show()"
     ],
     "language": "python",
     "metadata": {},
     "outputs": [
      {
       "output_type": "stream",
       "stream": "stderr",
       "text": [
        "/usr/local/lib/python2.7/site-packages/ionize/Solution/calc_pH.py:68: ComplexWarning: Casting complex values to real discards the imaginary part\n",
        "  cH = float(cH[0])\n"
       ]
      },
      {
       "metadata": {},
       "output_type": "display_data",
       "png": "[encoded data removed]",
       "text": [
        "<matplotlib.figure.Figure at 0x10c455110>"
       ]
      }
     ],
     "prompt_number": 2
    },
    {
     "cell_type": "markdown",
     "metadata": {},
     "source": [
      "Solving\n",
      "-------\n",
      "We solve the solution by using the Migrate class. This class takes the system defined by the Constructor as an input and solves it. "
     ]
    },
    {
     "cell_type": "code",
     "collapsed": false,
     "input": [
      "solver = emigrate.Migrate(system, 'slip', filename='test_4.hdf5')\n",
      "# solver.set_reference_frame(ionize.load_ion('hydrochloric acid'))\n",
      "tmax = 200\n",
      "dt = 1\n",
      "ode_solver = 'dopri5'\n",
      "profile = False\n",
      "\n",
      "if profile:\n",
      "    cProfile.run(\"solver.solve(tmax, dt, method=ode_solver)\")\n",
      "else:\n",
      "    epoch = time.time()\n",
      "    solver.solve(tmax, dt, method=ode_solver)\n",
      "    print 'Solved in {} seconds.'.format(time.time()-epoch)\n",
      "show()"
     ],
     "language": "python",
     "metadata": {},
     "outputs": [
      {
       "output_type": "stream",
       "stream": "stdout",
       "text": [
        "Solved in 158.235450029 seconds.\n"
       ]
      },
      {
       "output_type": "stream",
       "stream": "stderr",
       "text": [
        "/usr/local/lib/python2.7/site-packages/scipy/sparse/compressed.py:730: SparseEfficiencyWarning: Changing the sparsity structure of a csc_matrix is expensive. lil_matrix is more efficient.\n",
        "  SparseEfficiencyWarning)\n"
       ]
      }
     ],
     "prompt_number": 3
    },
    {
     "cell_type": "code",
     "collapsed": false,
     "input": [
      "for t, electrolyte in solver.electromigration.electrolytes.items():\n",
      "        for ion_concentration in electrolyte.concentrations:\n",
      "            plot(electrolyte.nodes*1000, ion_concentration, '-')\n",
      "xlabel('x (mm)')\n",
      "ylabel('concentration (M)')\n",
      "# ylim([0, .2])\n",
      "show()\n",
      "\n",
      "figure()\n",
      "for t, electrolyte in solver.electromigration.electrolytes.items():\n",
      "        plot(electrolyte.nodes*1000, electrolyte.pH, '-')\n",
      "xlabel('x (mm)')\n",
      "ylabel('pH')\n",
      "show()\n",
      "\n",
      "figure()\n",
      "for t, electrolyte in solver.electromigration.electrolytes.items():\n",
      "    plot(electrolyte.nodes*100, range(len(electrolyte.nodes)))\n",
      "ylabel('node')\n",
      "xlabel('x (mm)')\n",
      "show()"
     ],
     "language": "python",
     "metadata": {},
     "outputs": [
      {
       "ename": "AttributeError",
       "evalue": "'Group' object has no attribute 'concentrations'",
       "output_type": "pyerr",
       "traceback": [
        "\u001b[0;31m---------------------------------------------------------------------------\u001b[0m\n\u001b[0;31mAttributeError\u001b[0m                            Traceback (most recent call last)",
        "\u001b[0;32m<ipython-input-4-fbe77c43a4b9>\u001b[0m in \u001b[0;36m<module>\u001b[0;34m()\u001b[0m\n\u001b[1;32m      1\u001b[0m \u001b[0;32mfor\u001b[0m \u001b[0mt\u001b[0m\u001b[0;34m,\u001b[0m \u001b[0melectrolyte\u001b[0m \u001b[0;32min\u001b[0m \u001b[0msolver\u001b[0m\u001b[0;34m.\u001b[0m\u001b[0melectromigration\u001b[0m\u001b[0;34m.\u001b[0m\u001b[0melectrolytes\u001b[0m\u001b[0;34m.\u001b[0m\u001b[0mitems\u001b[0m\u001b[0;34m(\u001b[0m\u001b[0;34m)\u001b[0m\u001b[0;34m:\u001b[0m\u001b[0;34m\u001b[0m\u001b[0m\n\u001b[0;32m----> 2\u001b[0;31m         \u001b[0;32mfor\u001b[0m \u001b[0mion_concentration\u001b[0m \u001b[0;32min\u001b[0m \u001b[0melectrolyte\u001b[0m\u001b[0;34m.\u001b[0m\u001b[0mconcentrations\u001b[0m\u001b[0;34m:\u001b[0m\u001b[0;34m\u001b[0m\u001b[0m\n\u001b[0m\u001b[1;32m      3\u001b[0m             \u001b[0mplot\u001b[0m\u001b[0;34m(\u001b[0m\u001b[0melectrolyte\u001b[0m\u001b[0;34m.\u001b[0m\u001b[0mnodes\u001b[0m\u001b[0;34m*\u001b[0m\u001b[0;36m1000\u001b[0m\u001b[0;34m,\u001b[0m \u001b[0mion_concentration\u001b[0m\u001b[0;34m,\u001b[0m \u001b[0;34m'-'\u001b[0m\u001b[0;34m)\u001b[0m\u001b[0;34m\u001b[0m\u001b[0m\n\u001b[1;32m      4\u001b[0m \u001b[0mxlabel\u001b[0m\u001b[0;34m(\u001b[0m\u001b[0;34m'x (mm)'\u001b[0m\u001b[0;34m)\u001b[0m\u001b[0;34m\u001b[0m\u001b[0m\n\u001b[1;32m      5\u001b[0m \u001b[0mylabel\u001b[0m\u001b[0;34m(\u001b[0m\u001b[0;34m'concentration (M)'\u001b[0m\u001b[0;34m)\u001b[0m\u001b[0;34m\u001b[0m\u001b[0m\n",
        "\u001b[0;31mAttributeError\u001b[0m: 'Group' object has no attribute 'concentrations'"
       ]
      }
     ],
     "prompt_number": 4
    },
    {
     "cell_type": "code",
     "collapsed": false,
     "input": [
      "figure()\n",
      "plot([electrolyte.current_density for electrolyte in solver.electromigration.electrolytes.values()])\n",
      "show()"
     ],
     "language": "python",
     "metadata": {},
     "outputs": []
    },
    {
     "cell_type": "markdown",
     "metadata": {},
     "source": [
      "Modules\n",
      "-------\n",
      "\n",
      "The solver loads two types of modules:\n",
      "- The flux module.  This module defines the flux of ions through the domain.\n",
      "- The equilibrium module. This module defines the mobility, diffusivity, and molar conductivity of ions. These values are used by the flux module. \n",
      "\n",
      "By default, the flux module called is the compact solver with no adaptive grid.\n",
      "The equilibrium solver called is the fixed pH solver. "
     ]
    },
    {
     "cell_type": "markdown",
     "metadata": {},
     "source": [
      "Saving\n",
      "------\n",
      "Both electrolyte objects and electrmigration objects save as json files. "
     ]
    },
    {
     "cell_type": "code",
     "collapsed": false,
     "input": [
      "solver.electromigration.write_json('tutorial_example_2.json')"
     ],
     "language": "python",
     "metadata": {},
     "outputs": []
    },
    {
     "cell_type": "markdown",
     "metadata": {},
     "source": [
      "Solutions can then be reloaded using the Electromigration class. Currently, they lose all ion information except name during this process."
     ]
    },
    {
     "cell_type": "code",
     "collapsed": false,
     "input": [
      "solution_reloaded = emigrate.Electromigration([]).load_json('tutorial_example.json')"
     ],
     "language": "python",
     "metadata": {},
     "outputs": []
    },
    {
     "cell_type": "code",
     "collapsed": false,
     "input": [
      "print solution_reloaded.ions\n",
      "for t, electrolyte in solution_reloaded.electrolytes.items():\n",
      "    for ion_concentration in electrolyte.concentrations:\n",
      "            plot(electrolyte.nodes*1000, ion_concentration, '-')\n",
      "xlabel('x (mm)')\n",
      "ylabel('concentration (M)')\n",
      "show()"
     ],
     "language": "python",
     "metadata": {},
     "outputs": []
    },
    {
     "cell_type": "code",
     "collapsed": false,
     "input": [
      "print time.time()-epoch\n"
     ],
     "language": "python",
     "metadata": {},
     "outputs": []
    },
    {
     "cell_type": "code",
     "collapsed": false,
     "input": [],
     "language": "python",
     "metadata": {},
     "outputs": []
    }
   ],
   "metadata": {}
  }
 ]
}