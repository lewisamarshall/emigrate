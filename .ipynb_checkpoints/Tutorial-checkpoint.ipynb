{
 "metadata": {
  "name": "",
  "signature": "sha256:ec8b3d7898c7dae39832123d2aa2533c0872c565f0b8ea8691d62fe8abe8b7fe"
 },
 "nbformat": 3,
 "nbformat_minor": 0,
 "worksheets": [
  {
   "cells": [
    {
     "cell_type": "markdown",
     "metadata": {},
     "source": [
      "Emigrate\n",
      "========\n",
      "Emigrate is an electrophoresis simulator written in python. It is based on the the scipy.integrate.ode solver. It is written with multiple simulation modules to allow varying solution schemes in order to allow easy extension."
     ]
    },
    {
     "cell_type": "markdown",
     "metadata": {},
     "source": [
      "First, we'll import emigrate. We'll also import ionize, because it contains the Ion and Solution objects that we will use to set the initial conditions\n",
      "We'll also import numpy to set up some vectors, and cProfile for code profiling"
     ]
    },
    {
     "cell_type": "code",
     "collapsed": false,
     "input": [
      "import emigrate\n",
      "import ionize\n",
      "\n",
      "import numpy as np\n",
      "import cProfile\n",
      "import time\n",
      "\n",
      "from matplotlib.pyplot import *\n",
      "%matplotlib inline"
     ],
     "language": "python",
     "metadata": {},
     "outputs": [],
     "prompt_number": 1
    },
    {
     "cell_type": "markdown",
     "metadata": {},
     "source": [
      "Initial Condition\n",
      "-----------------\n",
      "To define an initial condition, use the emigrate.Electrolyte class. An Electrolyte represents a quasi-1D system of solutions in a channel. It has a set of nodes, and each node represents a point along the axial dimension. Each point has a concentration for each Ion in the system. It can also have other attributes, such as a cross-sectional area, a pH, and an electric field. Only nodes, ions, and concentrations are mandatory. Other attributes are optional.\n",
      "\n",
      "The easiest way of initializing an electrolyte is to create a set of solutions, and then creating a "
     ]
    },
    {
     "cell_type": "code",
     "collapsed": false,
     "input": [
      "solutions = [ionize.Solution(['hepes', 'tris'], [.05, .105]),\n",
      "             ionize.Solution(['caproic acid', 'tris', 'fluorescein', 'alexa fluor 488', 'mops', 'acetic acid'], \n",
      "                              [.01, .1, .01, .01, .01, .01]),\n",
      "             ionize.Solution(['hydrochloric acid', 'tris'], [.04, .08]),\n",
      "            ]\n",
      "\n",
      "system = emigrate.Electrolyte(dict(\n",
      "                         n_nodes=100,\n",
      "                         lengths=[.005, .001, .02],\n",
      "                         interface_length=.0005,\n",
      "                         solutions=solutions,\n",
      "                         voltage= None, \n",
      "                         current_density=-500.,\n",
      "#                          current=-500*.01,\n",
      "                         ))\n",
      "# system.current = min(system.current)\n",
      "system.current = system.area*system.current_density\n",
      "system.current = -500\n",
      "for i in range(len(system.ions)):\n",
      "    plot(system.nodes, system.concentrations[i,:])\n",
      "xlabel('x (m)')\n",
      "ylabel('concentration (M)')\n",
      "xlim([0, .03])\n",
      "show()"
     ],
     "language": "python",
     "metadata": {},
     "outputs": [
      {
       "output_type": "stream",
       "stream": "stdout",
       "text": [
        "[8.293754874882037, 8.01472182801748, 8.15045724125829]\n"
       ]
      },
      {
       "metadata": {},
       "output_type": "display_data",
       "png": "[encoded data removed]",
       "text": [
        "<matplotlib.figure.Figure at 0x110135910>"
       ]
      }
     ]
    },
    {
     "cell_type": "markdown",
     "metadata": {},
     "source": [
      "Solving\n",
      "-------\n",
      "We solve the solution by using the Migrate class. This class takes the system defined by the Constructor as an input and solves it. "
     ]
    },
    {
     "cell_type": "code",
     "collapsed": false,
     "input": [
      "solver = emigrate.Migrate(system, filename='test.hdf5', precondition=True, flux_mode='slip')\n",
      "# solver.set_reference_frame(ionize.load_ion('hydrochloric acid'))\n",
      "tmax = 200\n",
      "dt = 1\n",
      "ode_solver = 'dopri5'\n",
      "profile = False\n",
      "\n",
      "if profile:\n",
      "    cProfile.run(\"solver.solve(tmax, dt, method=ode_solver)\")\n",
      "else:\n",
      "    epoch = time.time()\n",
      "    solver.solve(tmax, dt, method=ode_solver)\n",
      "    print 'Solved in {:.2f} seconds.'.format(time.time()-epoch)\n",
      "show()"
     ],
     "language": "python",
     "metadata": {},
     "outputs": []
    },
    {
     "cell_type": "code",
     "collapsed": false,
     "input": [
      "for electrolyte in solver.electromigration:\n",
      "#     if t != 0:\n",
      "#         figure()\n",
      "        for ion_concentration in electrolyte.concentrations:\n",
      "            plot(electrolyte.nodes, ion_concentration, '-')\n",
      "#             print ion_concentration[-2:]\n",
      "#         print '\\n'\n",
      "\n",
      "xlabel('x (mm)')\n",
      "ylabel('concentration (M)')\n",
      "ylim([0, .2])\n",
      "show()\n",
      "\n",
      "figure()\n",
      "for electrolyte in solver.electromigration:\n",
      "        plot(electrolyte.nodes*1000, electrolyte.pH, '-')\n",
      "#         print electrolyte.pH[-5:]\n",
      "xlabel('x (mm)')\n",
      "ylabel('pH')\n",
      "show()\n",
      "\n",
      "# figure()\n",
      "# for t, electrolyte in solver.electromigration.electrolytes.items():\n",
      "#     plot(electrolyte['nodes'], range(len(electrolyte['nodes'])))\n",
      "# ylabel('node')\n",
      "# xlabel('x (mm)')\n",
      "# show()"
     ],
     "language": "python",
     "metadata": {},
     "outputs": []
    },
    {
     "cell_type": "code",
     "collapsed": false,
     "input": [
      "figure()\n",
      "plot([electrolyte.voltage for electrolyte in solver.electromigration])\n",
      "# for electrolyte in solver.electromigration.electrolytes.values():\n",
      "#     plot(electrolyte.nodes, electrolyte.area)\n",
      "#     plot(electrolyte.area)\n",
      "\n",
      "# plot([electrolyte.area.tolist() for electrolyte in solver.electromigration.electrolytes.values()[:2]])\n",
      "print solver.flux_calculator.current\n",
      "show()"
     ],
     "language": "python",
     "metadata": {},
     "outputs": []
    },
    {
     "cell_type": "markdown",
     "metadata": {},
     "source": [
      "Modules\n",
      "-------\n",
      "\n",
      "The solver loads two types of modules:\n",
      "- The flux module.  This module defines the flux of ions through the domain.\n",
      "- The equilibrium module. This module defines the mobility, diffusivity, and molar conductivity of ions. These values are used by the flux module. \n",
      "\n",
      "By default, the flux module called is the compact solver with no adaptive grid.\n",
      "The equilibrium solver called is the fixed pH solver. "
     ]
    },
    {
     "cell_type": "markdown",
     "metadata": {},
     "source": [
      "Saving\n",
      "------\n",
      "Both electrolyte objects and electrmigration objects save as json files. "
     ]
    },
    {
     "cell_type": "code",
     "collapsed": false,
     "input": [
      "solver.electromigration.write_json('tutorial_example_5.json')"
     ],
     "language": "python",
     "metadata": {},
     "outputs": []
    },
    {
     "cell_type": "markdown",
     "metadata": {},
     "source": [
      "Solutions can then be reloaded using the Electromigration class. Currently, they lose all ion information except name during this process."
     ]
    },
    {
     "cell_type": "code",
     "collapsed": false,
     "input": [
      "solution_reloaded = emigrate.Electromigration([]).load_json('tutorial_example.json')"
     ],
     "language": "python",
     "metadata": {},
     "outputs": []
    },
    {
     "cell_type": "code",
     "collapsed": false,
     "input": [
      "print solution_reloaded.ions\n",
      "for t, electrolyte in solution_reloaded.electrolytes.items():\n",
      "    for ion_concentration in electrolyte.concentrations:\n",
      "            plot(electrolyte.nodes*1000, ion_concentration, '-')\n",
      "xlabel('x (mm)')\n",
      "ylabel('concentration (M)')\n",
      "show()"
     ],
     "language": "python",
     "metadata": {},
     "outputs": []
    },
    {
     "cell_type": "code",
     "collapsed": false,
     "input": [
      "print time.time()-epoch\n"
     ],
     "language": "python",
     "metadata": {},
     "outputs": []
    },
    {
     "cell_type": "code",
     "collapsed": false,
     "input": [
      "solver.electromigration[1].__dict__\n"
     ],
     "language": "python",
     "metadata": {},
     "outputs": []
    },
    {
     "cell_type": "code",
     "collapsed": false,
     "input": [],
     "language": "python",
     "metadata": {},
     "outputs": []
    }
   ],
   "metadata": {}
  }
 ]
}